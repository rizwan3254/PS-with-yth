{
 "cells": [
  {
   "cell_type": "code",
   "execution_count": 67,
   "id": "b2f15c54",
   "metadata": {},
   "outputs": [],
   "source": [
    "import numpy as np\n",
    "import matplotlib.pyplot as plt\n",
    "\n",
    "def Probability_of_winning(dim, isStarting):\n",
    "    turn_splitter = int(dim**2/2)\n",
    "    if dim % 2 == 1:\n",
    "        if  isStarting == True: \n",
    "            matrix = np.array((1,)*turn_splitter+(0,)*(turn_splitter+1))\n",
    "        else:\n",
    "            matrix = np.array((1,)*(turn_splitter+1)+(0,)*turn_splitter)\n",
    "    else:\n",
    "        matrix = np.array((1,)*turn_splitter+(0,)*turn_splitter)\n",
    "    wins = 0\n",
    "    for i in range(10000):\n",
    "        np.random.shuffle(matrix)\n",
    "        det = np.linalg.det(np.reshape(matrix,(dim,dim))) \n",
    "        if det == 0:\n",
    "            wins+=1\n",
    "    return wins/10000\n",
    "\n"
   ]
  },
  {
   "cell_type": "code",
   "execution_count": 68,
   "id": "6c1af8c0",
   "metadata": {},
   "outputs": [
    {
     "name": "stdout",
     "output_type": "stream",
     "text": [
      "0.6677700000000001\n",
      "0.666955\n",
      "0.71532\n",
      "0.43031500000000006\n"
     ]
    }
   ],
   "source": [
    "#test some examples\n",
    "sum = 0\n",
    "for i in range(20):\n",
    "    sum += Probability_of_winning(2, True)\n",
    "print(sum/20)\n",
    "\n",
    "sum2 = 0\n",
    "for i in range(20):\n",
    "    sum2 += Probability_of_winning(2, False)\n",
    "print(sum2/20)\n",
    "\n",
    "\n",
    "sum = 0\n",
    "for i in range(20):\n",
    "    sum += Probability_of_winning(3, True)\n",
    "print(sum/20)\n",
    "\n",
    "sum2 = 0\n",
    "for i in range(20):\n",
    "    sum2 += Probability_of_winning(3, False)\n",
    "print(sum2/20)\n"
   ]
  },
  {
   "cell_type": "code",
   "execution_count": 78,
   "id": "5e72bf9e",
   "metadata": {},
   "outputs": [
    {
     "data": {
      "image/png": "[encoded data removed]",
      "text/plain": [
       "<Figure size 432x288 with 1 Axes>"
      ]
     },
     "metadata": {
      "needs_background": "light"
     },
     "output_type": "display_data"
    },
    {
     "name": "stdout",
     "output_type": "stream",
     "text": [
      "Orange: If i start\n",
      "Blue: If i dont start\n"
     ]
    }
   ],
   "source": [
    "dimensions = np.arange(2,30)\n",
    "matrix1= []\n",
    "matrix2 = [] \n",
    "for i in dimensions:\n",
    "    matrix1.append(Probability_of_winning(i,True))\n",
    "    matrix2.append(Probability_of_winning(i,False))\n",
    "    \n",
    "plt.plot(dimensions,matrix1)\n",
    "plt.plot(dimensions,matrix2)\n",
    "plt.grid()\n",
    "plt.xlabel('Dimension')\n",
    "plt.ylabel('Winning Probability')\n",
    "plt.show()\n",
    "print(\"Orange: If i start\")\n",
    "print(\"Blue: If i dont start\")"
   ]
  }
 ],
 "metadata": {
  "kernelspec": {
   "display_name": "Python 3 (ipykernel)",
   "language": "python",
   "name": "python3"
  },
  "language_info": {
   "codemirror_mode": {
    "name": "ipython",
    "version": 3
   },
   "file_extension": ".py",
   "mimetype": "text/x-python",
   "name": "python",
   "nbconvert_exporter": "python",
   "pygments_lexer": "ipython3",
   "version": "3.9.7"
  }
 },
 "nbformat": 4,
 "nbformat_minor": 5
}
