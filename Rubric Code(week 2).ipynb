{
 "cells": [
  {
   "cell_type": "code",
   "execution_count": 23,
   "id": "7e8e2709",
   "metadata": {},
   "outputs": [
    {
     "name": "stdout",
     "output_type": "stream",
     "text": [
      "[1, 5, 6, 1, 7, 8, 5, 3, 8, 1, 9, 0, 9, 9, 8, 7, 5, 2, 7, 9, 6, 5, 1, 6, 7, 3, 0, 3, 3, 6, 9, 5, 4, 9, 3, 2, 5, 7, 2, 9, 1, 0, 1, 1, 2, 3, 5, 8, 3, 1, 4, 5, 9, 4, 3, 7, 0, 7, 7, 4]\n"
     ]
    }
   ],
   "source": [
    "sequence = [1, 5, 6, 1, 7, 8, 5]\n",
    "\n",
    "for n in range(1000):  # You can adjust the range limit based on your preferences\n",
    "    next_number = (sequence[-2] + sequence[-1]) % 10\n",
    "    sequence.append(next_number)  \n",
    "    if len(sequence) >= 2 and sequence[-2:] == [7, 4]:\n",
    "        break\n",
    "\n",
    "print(sequence)"
   ]
  },
  {
   "cell_type": "code",
   "execution_count": 28,
   "id": "1ad580b6",
   "metadata": {},
   "outputs": [
    {
     "name": "stdout",
     "output_type": "stream",
     "text": [
      "[5, 4, 9, 3, 2, 5, 7, 2, 9, 1, 0, 1, 1, 2, 3, 5, 8, 3, 1, 4, 5, 9, 4, 3, 7, 0, 7, 7, 4, 1, 5, 6, 1, 7, 8, 5, 3, 8, 1, 9, 0, 9, 9, 8, 7, 5, 2, 7, 9, 6, 5, 1, 6, 7, 3, 0, 3, 3, 6, 9, 5, 4]\n"
     ]
    }
   ],
   "source": [
    "sequence = [5,4]\n",
    "\n",
    "for n in range(60):  # You can adjust the range limit based on your preferences\n",
    "    next_number = (sequence[-2] + sequence[-1]) % 10\n",
    "    sequence.append(next_number)  \n",
    "\n",
    "print(sequence)"
   ]
  },
  {
   "cell_type": "code",
   "execution_count": 29,
   "id": "4f2d9aee",
   "metadata": {},
   "outputs": [
    {
     "name": "stdout",
     "output_type": "stream",
     "text": [
      "(0, 0) | (0, 1) | (0, 2) | (0, 3) | (0, 4) | (0, 5) | (0, 6) | (0, 7) | (0, 8) | (0, 9)\n",
      "---------------------------------------\n",
      "(1, 0) | (1, 1) | (1, 2) | (1, 3) | (1, 4) | (1, 5) | (1, 6) | (1, 7) | (1, 8) | (1, 9)\n",
      "---------------------------------------\n",
      "(2, 0) | (2, 1) | (2, 2) | (2, 3) | (2, 4) | (2, 5) | (2, 6) | (2, 7) | (2, 8) | (2, 9)\n",
      "---------------------------------------\n",
      "(3, 0) | (3, 1) | (3, 2) | (3, 3) | (3, 4) | (3, 5) | (3, 6) | (3, 7) | (3, 8) | (3, 9)\n",
      "---------------------------------------\n",
      "(4, 0) | (4, 1) | (4, 2) | (4, 3) | (4, 4) | (4, 5) | (4, 6) | (4, 7) | (4, 8) | (4, 9)\n",
      "---------------------------------------\n",
      "(5, 0) | (5, 1) | (5, 2) | (5, 3) | (5, 4) | (5, 5) | (5, 6) | (5, 7) | (5, 8) | (5, 9)\n",
      "---------------------------------------\n",
      "(6, 0) | (6, 1) | (6, 2) | (6, 3) | (6, 4) | (6, 5) | (6, 6) | (6, 7) | (6, 8) | (6, 9)\n",
      "---------------------------------------\n",
      "(7, 0) | (7, 1) | (7, 2) | (7, 3) | (7, 4) | (7, 5) | (7, 6) | (7, 7) | (7, 8) | (7, 9)\n",
      "---------------------------------------\n",
      "(8, 0) | (8, 1) | (8, 2) | (8, 3) | (8, 4) | (8, 5) | (8, 6) | (8, 7) | (8, 8) | (8, 9)\n",
      "---------------------------------------\n",
      "(9, 0) | (9, 1) | (9, 2) | (9, 3) | (9, 4) | (9, 5) | (9, 6) | (9, 7) | (9, 8) | (9, 9)\n",
      "---------------------------------------\n"
     ]
    }
   ],
   "source": [
    "# Create a 10 by 10 grid\n",
    "grid_size = 10\n",
    "grid = [['({}, {})'.format(i, j) for j in range(grid_size)] for i in range(grid_size)]\n",
    "\n",
    "# Print the grid\n",
    "for row in grid:\n",
    "    print(' | '.join(row))\n",
    "    print('-' * (4 * grid_size - 1))"
   ]
  },
  {
   "cell_type": "code",
   "execution_count": null,
   "id": "a96285f5",
   "metadata": {},
   "outputs": [],
   "source": []
  }
 ],
 "metadata": {
  "kernelspec": {
   "display_name": "Python 3 (ipykernel)",
   "language": "python",
   "name": "python3"
  },
  "language_info": {
   "codemirror_mode": {
    "name": "ipython",
    "version": 3
   },
   "file_extension": ".py",
   "mimetype": "text/x-python",
   "name": "python",
   "nbconvert_exporter": "python",
   "pygments_lexer": "ipython3",
   "version": "3.9.7"
  }
 },
 "nbformat": 4,
 "nbformat_minor": 5
}
