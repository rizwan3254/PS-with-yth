{
 "cells": [
  {
   "cell_type": "code",
   "execution_count": 4,
   "id": "db66ea62",
   "metadata": {},
   "outputs": [
    {
     "name": "stdout",
     "output_type": "stream",
     "text": [
      "The final piece of paper is 150.\n",
      "The final piece of paper is 188.\n",
      "The final piece of paper is 12.\n",
      "The final piece of paper is 344.\n",
      "The final piece of paper is 462.\n",
      "The final piece of paper is 172.\n",
      "The final piece of paper is 34.\n",
      "The final piece of paper is 664.\n",
      "The final piece of paper is 576.\n",
      "The final piece of paper is 14.\n",
      "The final piece of paper is 666.\n",
      "The final piece of paper is 2.\n",
      "The final piece of paper is 66.\n",
      "The final piece of paper is 368.\n",
      "The final piece of paper is 22.\n",
      "The final piece of paper is 122.\n",
      "The final piece of paper is 214.\n",
      "The final piece of paper is 64.\n",
      "The final piece of paper is 180.\n",
      "The final piece of paper is 106.\n",
      "The final piece of paper is 170.\n",
      "The final piece of paper is 246.\n",
      "The final piece of paper is 92.\n",
      "The final piece of paper is 128.\n",
      "The final piece of paper is 150.\n",
      "The final piece of paper is 292.\n",
      "The final piece of paper is 598.\n",
      "The final piece of paper is 300.\n",
      "The final piece of paper is 566.\n",
      "The final piece of paper is 28.\n",
      "The final piece of paper is 194.\n",
      "The final piece of paper is 582.\n",
      "The final piece of paper is 1012.\n",
      "The final piece of paper is 272.\n",
      "The final piece of paper is 120.\n",
      "The final piece of paper is 592.\n",
      "The final piece of paper is 674.\n",
      "The final piece of paper is 450.\n",
      "The final piece of paper is 124.\n",
      "The final piece of paper is 154.\n",
      "The final piece of paper is 140.\n",
      "The final piece of paper is 474.\n",
      "The final piece of paper is 280.\n",
      "The final piece of paper is 424.\n",
      "The final piece of paper is 714.\n",
      "The final piece of paper is 134.\n",
      "The final piece of paper is 306.\n",
      "The final piece of paper is 634.\n",
      "The final piece of paper is 160.\n",
      "The final piece of paper is 296.\n"
     ]
    }
   ],
   "source": [
    "import numpy as np\n",
    "import random\n",
    "\n",
    "def draw_two_papers(hat):\n",
    "    indices = np.random.choice(len(hat), 2, replace=False)\n",
    "    paper1, paper2 = hat[indices[0]], hat[indices[1]]\n",
    "    return paper1, paper2\n",
    "\n",
    "def update_hat(hat, paper1, paper2):\n",
    "    diff = abs(paper1 - paper2)\n",
    "        \n",
    "    hat = np.delete(hat, np.where(hat == paper1)[0][0])\n",
    "    hat = np.delete(hat, np.where(hat == paper2)[0][0])\n",
    "    hat = np.append(hat, diff)\n",
    "    hat = np.sort(hat)\n",
    "    return hat\n",
    "\n",
    "def play_game():\n",
    "    hat = np.arange(1, 2025)\n",
    "    while len(hat) > 1:\n",
    "        paper1, paper2 = draw_two_papers(hat)\n",
    "        hat = update_hat(hat, paper1, paper2)\n",
    "    print(f\"The final piece of paper is {hat[0]}.\")\n",
    "for i in range(50):\n",
    "    play_game()"
   ]
  },
  {
   "cell_type": "code",
   "execution_count": null,
   "id": "ea431f31",
   "metadata": {},
   "outputs": [],
   "source": []
  }
 ],
 "metadata": {
  "kernelspec": {
   "display_name": "Python 3 (ipykernel)",
   "language": "python",
   "name": "python3"
  },
  "language_info": {
   "codemirror_mode": {
    "name": "ipython",
    "version": 3
   },
   "file_extension": ".py",
   "mimetype": "text/x-python",
   "name": "python",
   "nbconvert_exporter": "python",
   "pygments_lexer": "ipython3",
   "version": "3.9.7"
  }
 },
 "nbformat": 4,
 "nbformat_minor": 5
}
