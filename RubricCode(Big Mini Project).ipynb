{
 "cells": [
  {
   "cell_type": "code",
   "execution_count": 29,
   "id": "bfb7e262",
   "metadata": {},
   "outputs": [
    {
     "name": "stdout",
     "output_type": "stream",
     "text": [
      "How many Strings in the hat?3\n",
      "First pick:  3\n",
      "Second Choice:  3\n",
      "\n",
      "\n",
      "First pick:  1\n",
      "Second Choice:  1\n",
      "\n",
      "\n",
      "First pick:  1\n",
      "Second Choice:  1\n",
      "\n",
      "\n",
      "The number of Closed Loops 3\n"
     ]
    }
   ],
   "source": [
    "import random\n",
    "import numpy as np\n",
    "\n",
    "\n",
    "number_of_strings = int(input(\"How many Strings in the hat?\"))\n",
    "array_of_strings = [1] * number_of_strings\n",
    "numclosedloops = 0\n",
    "while len(array_of_strings) >= 1:\n",
    "    choice1 = random.randint(0,number_of_strings-1)\n",
    "    choice2 = random.randint(0,number_of_strings-1)\n",
    "    print('First pick: ',choice1+1)\n",
    "    print('Second Choice: ',choice2+1)\n",
    "    print('\\n')\n",
    "    if choice1 == choice2:\n",
    "        numclosedloops+=1\n",
    "        array_of_strings.pop(choice1)\n",
    "        number_of_strings -= 1\n",
    "    else:\n",
    "        array_of_strings.pop(choice1)\n",
    "        number_of_strings -= 1\n",
    "        print()\n",
    "print('The number of Closed Loops', numclosedloops)    \n",
    "\n",
    "\n",
    "\n",
    "\n"
   ]
  },
  {
   "cell_type": "code",
   "execution_count": 40,
   "id": "7ff94abf",
   "metadata": {},
   "outputs": [
    {
     "name": "stdout",
     "output_type": "stream",
     "text": [
      "How many Strings in the hat?3\n"
     ]
    },
    {
     "data": {
      "text/plain": [
       "Text(0.5, 1.0, 'Occurences in the  game for n = 3')"
      ]
     },
     "execution_count": 40,
     "metadata": {},
     "output_type": "execute_result"
    },
    {
     "data": {
      "image/png": "[encoded data removed]",
      "text/plain": [
       "<Figure size 432x288 with 1 Axes>"
      ]
     },
     "metadata": {
      "needs_background": "light"
     },
     "output_type": "display_data"
    }
   ],
   "source": [
    "import random\n",
    "import numpy as np\n",
    "import matplotlib.pyplot as plt\n",
    "\n",
    "Cloop_array = []\n",
    "n1 = 0\n",
    "n2 = 0\n",
    "n3= 0\n",
    "number_of_strings = int(input(\"How many Strings in the hat?\"))\n",
    "num = number_of_strings\n",
    "for i in range(1000):\n",
    "    number_of_strings = num\n",
    "    array_of_strings = [1] * number_of_strings\n",
    "    numclosedloops = 0\n",
    "    while len(array_of_strings) >= 1:\n",
    "        choice1 = random.randint(0,number_of_strings-1)\n",
    "        choice2 = random.randint(0,number_of_strings-1)\n",
    "        if choice1 == choice2:\n",
    "            numclosedloops+=1\n",
    "            array_of_strings.pop(choice1)\n",
    "            number_of_strings -= 1\n",
    "        else:\n",
    "            array_of_strings.pop(choice1)\n",
    "            number_of_strings -= 1\n",
    "    Cloop_array.append(numclosedloops)\n",
    "       \n",
    "for  i in Cloop_array:\n",
    "    if i == 1:\n",
    "        n1 +=1\n",
    "    elif i == 2:\n",
    "        n2 +=1\n",
    "    elif i == 3:\n",
    "        n3 +=1\n",
    "\n",
    "plt.bar([1,2,3], [n1,n2,n3], color=('green', 'blue', 'purple'))\n",
    "plt.title(\"Occurences in the  game for n = 3\")"
   ]
  },
  {
   "cell_type": "code",
   "execution_count": null,
   "id": "f09595a9",
   "metadata": {},
   "outputs": [],
   "source": []
  },
  {
   "cell_type": "code",
   "execution_count": null,
   "id": "56d5519b",
   "metadata": {},
   "outputs": [],
   "source": []
  }
 ],
 "metadata": {
  "kernelspec": {
   "display_name": "Python 3 (ipykernel)",
   "language": "python",
   "name": "python3"
  },
  "language_info": {
   "codemirror_mode": {
    "name": "ipython",
    "version": 3
   },
   "file_extension": ".py",
   "mimetype": "text/x-python",
   "name": "python",
   "nbconvert_exporter": "python",
   "pygments_lexer": "ipython3",
   "version": "3.9.7"
  }
 },
 "nbformat": 4,
 "nbformat_minor": 5
}
