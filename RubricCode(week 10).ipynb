{
 "cells": [
  {
   "cell_type": "code",
   "execution_count": 59,
   "id": "323e4a79",
   "metadata": {},
   "outputs": [
    {
     "name": "stdout",
     "output_type": "stream",
     "text": [
      "[(0, 0), (0, 1), (0, 0), (-1, 0), (-1, 1), (0, 1), (1, 1), (0, 1), (1, 1)]\n",
      "0.00038\n"
     ]
    },
    {
     "data": {
      "image/png": "[encoded data removed]",
      "text/plain": [
       "<Figure size 432x288 with 1 Axes>"
      ]
     },
     "metadata": {
      "needs_background": "light"
     },
     "output_type": "display_data"
    }
   ],
   "source": [
    "import numpy as np\n",
    "import random\n",
    "import matplotlib.pyplot as plt\n",
    "\n",
    "def random_walk(steps):\n",
    "    x, y = 0, 0\n",
    "    directions = [(0, 1), (0, -1), (1, 0), (-1, 0)]\n",
    "    path = [(x,y)]\n",
    "    \n",
    "    while len(path) < steps:\n",
    "        diff_x, diff_y = random.choice(directions)\n",
    "        next_x, next_y = x + diff_x, y + diff_y\n",
    "        if -1 <= next_x <= 1 and -1 <= next_y <= 1:\n",
    "            x, y = next_x, next_y\n",
    "            path.append((x, y))\n",
    "    return path\n",
    "path = random_walk(9)\n",
    "x_values = [p[0] for p in path]\n",
    "y_values = [p[1] for p in path]\n",
    "print(path)\n",
    "plt.plot(x_values, y_values, marker = 'o')\n",
    "plt.xticks(np.arange(min(x_values)-1, max(x_values)+2, 1))\n",
    "plt.yticks(np.arange(min(y_values)-1, max(y_values)+2, 1))\n",
    "plt.grid(True, which='both', linestyle='--', linewidth=0.5)\n",
    "\n",
    "\n",
    "\n",
    "counter = 0\n",
    "original_path = [(0,0),(1,0),(1,1),(0,1),(-1,1),(-1,0),(-1,-1),(0,-1),(1,-1)]\n",
    "for j in range(5):\n",
    "    for i in range(10000):\n",
    "        path1 = random_walk(9)\n",
    "        if path1 == original_path:\n",
    "            counter += 1\n",
    "print(counter/50000)"
   ]
  },
  {
   "cell_type": "code",
   "execution_count": null,
   "id": "dad91d57",
   "metadata": {},
   "outputs": [],
   "source": []
  },
  {
   "cell_type": "code",
   "execution_count": null,
   "id": "a0ea731c",
   "metadata": {},
   "outputs": [],
   "source": []
  },
  {
   "cell_type": "code",
   "execution_count": null,
   "id": "d546dbd3",
   "metadata": {},
   "outputs": [],
   "source": []
  }
 ],
 "metadata": {
  "kernelspec": {
   "display_name": "Python 3 (ipykernel)",
   "language": "python",
   "name": "python3"
  },
  "language_info": {
   "codemirror_mode": {
    "name": "ipython",
    "version": 3
   },
   "file_extension": ".py",
   "mimetype": "text/x-python",
   "name": "python",
   "nbconvert_exporter": "python",
   "pygments_lexer": "ipython3",
   "version": "3.9.7"
  }
 },
 "nbformat": 4,
 "nbformat_minor": 5
}
