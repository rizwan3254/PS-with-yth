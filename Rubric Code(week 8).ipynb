{
 "cells": [
  {
   "cell_type": "code",
   "execution_count": 30,
   "id": "99e21b33",
   "metadata": {},
   "outputs": [
    {
     "data": {
      "image/png": "[encoded data removed]",
      "text/plain": [
       "<Figure size 432x288 with 1 Axes>"
      ]
     },
     "metadata": {
      "needs_background": "light"
     },
     "output_type": "display_data"
    },
    {
     "name": "stdout",
     "output_type": "stream",
     "text": [
      "0.665\n"
     ]
    }
   ],
   "source": [
    "import random\n",
    "counter = 0\n",
    "def coin_flip():\n",
    "    return random.randint(1, 2)\n",
    "\n",
    "def run(number_steps):\n",
    "    sequence = [0]\n",
    "    for i in range(number_steps):\n",
    "        steps = coin_flip()\n",
    "        sequence.append(sequence[-1] + steps)\n",
    "    return sequence\n",
    "def _25s(sequence):\n",
    "    return sum(1 for i in range(1, len(sequence)) if sequence[i] == 25)\n",
    "\n",
    "games = [run(24) for _ in range(10000)]\n",
    "number = [_25s(game) for game in games]\n",
    "\n",
    "plt.scatter(range(1, 10001), number)\n",
    "plt.xlabel(\"Number of Games\")\n",
    "plt.ylabel(\"The Appearance of 25\")\n",
    "plt.show()\n",
    "\n",
    "for i in range(10000):\n",
    "    if number[i] == 1:\n",
    "        counter += 1\n",
    "\n",
    "prob = counter/10000\n",
    "print (prob)"
   ]
  },
  {
   "cell_type": "code",
   "execution_count": null,
   "id": "32e9b8f6",
   "metadata": {},
   "outputs": [],
   "source": []
  },
  {
   "cell_type": "code",
   "execution_count": null,
   "id": "74f197f0",
   "metadata": {},
   "outputs": [],
   "source": []
  }
 ],
 "metadata": {
  "kernelspec": {
   "display_name": "Python 3 (ipykernel)",
   "language": "python",
   "name": "python3"
  },
  "language_info": {
   "codemirror_mode": {
    "name": "ipython",
    "version": 3
   },
   "file_extension": ".py",
   "mimetype": "text/x-python",
   "name": "python",
   "nbconvert_exporter": "python",
   "pygments_lexer": "ipython3",
   "version": "3.9.7"
  }
 },
 "nbformat": 4,
 "nbformat_minor": 5
}
